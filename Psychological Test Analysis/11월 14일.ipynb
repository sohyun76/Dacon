{
 "cells": [
  {
   "cell_type": "code",
   "execution_count": 2,
   "metadata": {},
   "outputs": [],
   "source": [
    "import numpy as np\n",
    "import pandas as pd\n",
    "import matplotlib.pyplot as plt\n",
    "%matplotlib inline\n",
    "import seaborn as sns\n",
    "\n",
    "#전처리\n",
    "from sklearn.preprocessing import LabelEncoder, StandardScaler\n",
    "from sklearn.preprocessing import MinMaxScaler\n",
    "\n",
    "#데이터분리\n",
    "from sklearn.model_selection import StratifiedKFold, KFold, GridSearchCV\n",
    "from sklearn.model_selection import train_test_split\n",
    "\n",
    "#모델링\n",
    "\n",
    "from sklearn.ensemble import AdaBoostClassifier\n",
    "from lightgbm import LGBMClassifier\n",
    "# from catboost import CatBoostClassifier\n",
    "from xgboost import XGBClassifier\n",
    "from sklearn.ensemble import GradientBoostingClassifier\n",
    "\n",
    "#성과 평가 지표\n",
    "from sklearn.metrics import accuracy_score, mean_squared_error"
   ]
  },
  {
   "cell_type": "code",
   "execution_count": 4,
   "metadata": {},
   "outputs": [
    {
     "name": "stdout",
     "output_type": "stream",
     "text": [
      "(45532, 77)\n",
      "(11383, 76)\n",
      "(11383, 1)\n"
     ]
    }
   ],
   "source": [
    "train=pd.read_csv('train.csv', index_col=0)\n",
    "test=pd.read_csv('test_x.csv', index_col=0)\n",
    "submission=pd.read_csv('sample_submission.csv', index_col=0)  \n",
    "print(train.shape)\n",
    "print(test.shape)\n",
    "print(submission.shape)"
   ]
  },
  {
   "cell_type": "code",
   "execution_count": 5,
   "metadata": {},
   "outputs": [],
   "source": [
    "X_train = train.drop('voted', axis = 1)\n",
    "y_train = train['voted']"
   ]
  },
  {
   "cell_type": "code",
   "execution_count": 6,
   "metadata": {},
   "outputs": [],
   "source": [
    "drop_val = ['QaA', 'QbA', 'QcA','QdA', 'QeA',\n",
    "       'QfA', 'QgA', 'QhA', 'QiA', 'QjA',\n",
    "       'QkA', 'QlA', 'QmA', 'QnA', 'QoA',\n",
    "       'QpA', 'QqA', 'QrA', 'QsA', 'QtA']\n",
    "\n",
    "train = X_train.drop(drop_val, axis = 1)\n",
    "test = test.drop(drop_val, axis = 1)"
   ]
  },
  {
   "cell_type": "code",
   "execution_count": 7,
   "metadata": {},
   "outputs": [],
   "source": [
    "train_dummies = pd.get_dummies(train)\n",
    "test_dummies = pd.get_dummies(test)\n",
    "new_train=pd.DataFrame(train_dummies).to_numpy()\n",
    "new_test=pd.DataFrame(test_dummies).to_numpy()"
   ]
  },
  {
   "cell_type": "code",
   "execution_count": 8,
   "metadata": {},
   "outputs": [],
   "source": [
    "scaler=MinMaxScaler()\n",
    "scaler.fit(new_train)\n",
    "new_train=scaler.transform(new_train)\n",
    "new_test=scaler.transform(new_test)"
   ]
  },
  {
   "cell_type": "code",
   "execution_count": 23,
   "metadata": {},
   "outputs": [
    {
     "name": "stdout",
     "output_type": "stream",
     "text": [
      "GridSearchCV 최적 파라미터: {'learning_rate': 0.5, 'n_estimators': 100}\n"
     ]
    }
   ],
   "source": [
    "# cv =4\n",
    "\n",
    "# lgbm_clf = LGBMClassifier()\n",
    "ada_clf = AdaBoostClassifier()\n",
    "params = {\n",
    "         'n_estimators':[50,100,150],\n",
    "         'learning_rate':[0.2,0.5,1.0,1.5]\n",
    "         }\n",
    "# base_estimators:None/\n",
    "\n",
    "# cv는 4으로 지정\n",
    "gridcv = GridSearchCV(ada_clf, param_grid=params, cv=4)\n",
    "gridcv.fit(new_train, y_train)\n",
    "\n",
    "print('GridSearchCV 최적 파라미터:', gridcv.best_params_)"
   ]
  },
  {
   "cell_type": "code",
   "execution_count": 21,
   "metadata": {},
   "outputs": [
    {
     "name": "stdout",
     "output_type": "stream",
     "text": [
      "Fitting 4 folds for each of 294 candidates, totalling 1176 fits\n"
     ]
    },
    {
     "name": "stderr",
     "output_type": "stream",
     "text": [
      "[Parallel(n_jobs=1)]: Using backend SequentialBackend with 1 concurrent workers.\n",
      "[Parallel(n_jobs=1)]: Done 1176 out of 1176 | elapsed: 14.7min finished\n"
     ]
    },
    {
     "name": "stdout",
     "output_type": "stream",
     "text": [
      "Grid최적 {'max_leaf_nodes': 40, 'min_samples_split': 2}\n"
     ]
    }
   ],
   "source": [
    "from sklearn.tree import DecisionTreeClassifier\n",
    "tree_clf = DecisionTreeClassifier()\n",
    "params = {\n",
    "    'max_leaf_nodes':list(range(2,100)),\n",
    "                         'min_samples_split':[2,3,4]\n",
    "}\n",
    "grid_search_cv = GridSearchCV(tree_clf,\n",
    "                             param_grid=params,verbose=1,cv=4)\n",
    "grid_search_cv.fit(new_train,y_train)\n",
    "print('Grid최적',grid_search_cv.best_params_)"
   ]
  },
  {
   "cell_type": "code",
   "execution_count": 22,
   "metadata": {},
   "outputs": [],
   "source": [
    "tree_model = DecisionTreeClassifier(max_depth=100,max_leaf_nodes=40,min_samples_split=2)"
   ]
  },
  {
   "cell_type": "code",
   "execution_count": null,
   "metadata": {},
   "outputs": [],
   "source": [
    "AdaBoostClassifier(base_estimator= tree_model, learning_rate=0.5, n_estimators=100)"
   ]
  },
  {
   "cell_type": "code",
   "execution_count": null,
   "metadata": {},
   "outputs": [],
   "source": [
    "_clf = Classifier()\n",
    "\n",
    "params = {}\n",
    "\n",
    "\n",
    "# cv는 3으로 지정\n",
    "gridcv = GridSearchCV(_clf, param_grid=params, cv=4)\n",
    "gridcv.fit(new_train, y_train, early_stopping_rounds=100, eval_metric=\"auc\",eval_set=(new_train, y_train))\n",
    "\n",
    "print('GridSearchCV 최적 파라미터:', gridcv.best_params_)"
   ]
  }
 ],
 "metadata": {
  "kernelspec": {
   "display_name": "Python 3",
   "language": "python",
   "name": "python3"
  },
  "language_info": {
   "codemirror_mode": {
    "name": "ipython",
    "version": 3
   },
   "file_extension": ".py",
   "mimetype": "text/x-python",
   "name": "python",
   "nbconvert_exporter": "python",
   "pygments_lexer": "ipython3",
   "version": "3.7.4"
  }
 },
 "nbformat": 4,
 "nbformat_minor": 2
}
